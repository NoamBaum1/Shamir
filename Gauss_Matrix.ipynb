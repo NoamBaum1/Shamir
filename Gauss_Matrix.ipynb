{
 "cells": [
  {
   "cell_type": "code",
   "execution_count": 7,
   "id": "9cea17ce-d453-4559-b0b1-b3e5f16b1403",
   "metadata": {},
   "outputs": [],
   "source": [
    "#Matrice de Gauss\n",
    "\n",
    "def afficher(k,Matrice_Gauss):\n",
    "\t\tfor c in range(k):\n",
    "\t\t\tfor l in range(k+1):\n",
    "\t\t\t\tprint(Matrice_Gauss[c*(k+1)+l],end=\" , \")\n",
    "\t\t\tprint()\n",
    "\n",
    "\n",
    "def solve(k):\n",
    "    \n",
    "    fichier = open(\"/home/veriqloud/Documents/Shamir/data.txt\", \"r\")\n",
    "    a = fichier.read()\n",
    "    fichier.close()\n",
    "    pts = []\n",
    "    coordonnes = []\n",
    "    for i in a :\n",
    "        coordonnes.append(i)\n",
    "    v = 0\n",
    "    signe = 1\n",
    "    for i in coordonnes:\n",
    "        if i in [\"1\",\"2\",\"3\",\"4\",\"5\",\"6\",\"7\",\"8\",\"9\",\"0\"]:\n",
    "            v = v*10 + int(i)\n",
    "        elif i == \"-\":\n",
    "            signe = -1\n",
    "        elif i == \";\" or i == \")\":\n",
    "            v = v * signe\n",
    "            pts.append(v)\n",
    "            signe = 1\n",
    "            v = 0\n",
    "    if k <= 0:\n",
    "    \tprint(\"Erreur, on ne peux pas trouver de courbe sans points au préalable\")\n",
    "    else:\n",
    "\n",
    "    \tMatrice_Gauss=[]\n",
    "    \n",
    "    \n",
    "    \tfor c in range(k):\n",
    "    \t\tfor l in range(k):\n",
    "    \t\t\tMatrice_Gauss.append(pts[2*c]**l)\n",
    "    \t\tMatrice_Gauss.append(pts[2*c+1])\n",
    "    \n",
    "    \n",
    "    \timpossibilite = 0\n",
    "    \tfor colonneactive in range(k):\n",
    "    \t\t\n",
    "    \t\tpivot=Matrice_Gauss[colonneactive*(k+1)+colonneactive]\n",
    "    \t\tif pivot == 0:\n",
    "    \t\t\timpossibilite = 1\n",
    "    \t\t\tbreak\n",
    "    \t\tfor l in range(k+1):\n",
    "    \t\t\t\n",
    "    \t\t\tMatrice_Gauss[colonneactive*(k+1)+l] = Matrice_Gauss[colonneactive*(k+1)+l]/pivot\n",
    "    \n",
    "    \t\tfor c in range(k):\n",
    "    \t\t\tcoefcolonne = Matrice_Gauss[c*(k+1)+colonneactive]\n",
    "    \t\t\tfor l in range(k+1):\n",
    "    \t\t\t\tif c != colonneactive:\n",
    "    \t\t\t\t\tMatrice_Gauss[c*(k+1)+l]=Matrice_Gauss[c*(k+1)+l]-Matrice_Gauss[colonneactive*(k+1)+l]*coefcolonne\n",
    "    \t\t\t\t\n",
    "    \n",
    "    \tif impossibilite == 1:\n",
    "    \t\tprint(\"Les points fournis ne sont pas adaptés\")\n",
    "    \telse:\n",
    "    \t\tprint(\"Matrice diagonalisée :\")\n",
    "    \t\tafficher(k,Matrice_Gauss)\n",
    "    \t\tprint(\"La fonction est : f(x) = \",end=\"\")\n",
    "    \t\tfor c in range(k):\n",
    "    \t\t\tif c == 0:\n",
    "    \t\t\t\tprint(Matrice_Gauss[k],end=\"\",sep=\"\")\n",
    "    \t\t\telif c == 1:\n",
    "    \t\t\t\tprint(\" + \",Matrice_Gauss[(c+1)*(k+1)-1],\"x\",end=\"\",sep=\"\")\n",
    "    \t\t\telse:\n",
    "    \t\t\t\tprint(\" + \",Matrice_Gauss[(c+1)*(k+1)-1],\"x^\",c,end=\"\",sep=\"\")\n",
    "    \n",
    "    \t\tprint()\n"
   ]
  },
  {
   "cell_type": "code",
   "execution_count": null,
   "id": "966f1b4f-50d9-4bef-877d-2869a55ecff1",
   "metadata": {},
   "outputs": [],
   "source": [
    "k=int(input(\"Quel est le nombre de points nécessaires pour retrouver la fonction (nombre supérieur à 0) ?\\n\"))\n",
    "solve(k)"
   ]
  },
  {
   "cell_type": "code",
   "execution_count": 8,
   "id": "3905310a-fb74-4af1-8530-872524cc39ed",
   "metadata": {},
   "outputs": [
    {
     "name": "stdout",
     "output_type": "stream",
     "text": [
      "Matrice diagonalisée :\n",
      "1.0 , 0.0 , 0.0 , 8.0 , \n",
      "0.0 , 1.0 , 0.0 , -13.0 , \n",
      "-0.0 , -0.0 , 1.0 , 2.0 , \n",
      "La fonction est : f(x) = 8.0 + -13.0x + 2.0x^2\n"
     ]
    }
   ],
   "source": [
    "solve(3)"
   ]
  }
 ],
 "metadata": {
  "kernelspec": {
   "display_name": "Python 3 (ipykernel)",
   "language": "python",
   "name": "python3"
  },
  "language_info": {
   "codemirror_mode": {
    "name": "ipython",
    "version": 3
   },
   "file_extension": ".py",
   "mimetype": "text/x-python",
   "name": "python",
   "nbconvert_exporter": "python",
   "pygments_lexer": "ipython3",
   "version": "3.13.3"
  }
 },
 "nbformat": 4,
 "nbformat_minor": 5
}
