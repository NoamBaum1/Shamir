{
 "cells": [
  {
   "cell_type": "code",
   "execution_count": 1,
   "id": "8038e7e0-f496-4bba-9bd4-f6d3c433cde3",
   "metadata": {},
   "outputs": [],
   "source": [
    "#Algorithme  en python de codage et de décodage du partage de secret de Shamir\n",
    "#Par Noam Baum, 16 ans, stagiaire"
   ]
  },
  {
   "cell_type": "code",
   "execution_count": 2,
   "id": "9dafb02b-1e56-44e1-b3b2-57cb6d438f6e",
   "metadata": {},
   "outputs": [
    {
     "name": "stdout",
     "output_type": "stream",
     "text": [
      "\n",
      "\n",
      "\n"
     ]
    }
   ],
   "source": [
    "import random\n",
    "print(\"\\n\\n\")\n",
    "#codage\n",
    "def codage(k,n,secret): #avec k le nombre de points nécessaires pour décoder et n le nombre de points partagés\n",
    "    f= [secret]\n",
    "    pts = []\n",
    "    ptX = 0\n",
    "    for i in range(k-1):\n",
    "        f.append(random.randint(-30,30))\n",
    "    for i in range(n):\n",
    "        while not(ptX in pts) or ptX != 0:\n",
    "            print(ptX)\n",
    "            ptX = random.randint(-200,200)\n",
    "            ptY = 0\n",
    "            degre = 0\n",
    "            for i in f:\n",
    "                ptY = ptY + i*(ptX**degre)\n",
    "                degre += 1\n",
    "            break\n",
    "        pts.append(\"(\"+str(ptX)+\";\"+str(ptY)+\")\")\n",
    "    \n",
    "    return pts\n",
    "    "
   ]
  },
  {
   "cell_type": "code",
   "execution_count": 3,
   "id": "754a754d-7e91-4a91-99b3-a10967998436",
   "metadata": {},
   "outputs": [],
   "source": [
    "def decoder(k,pts):\n",
    "\n",
    "    Matrice_Gauss = []\n",
    "    for c in range(k):\n",
    "        for l in range(k):\n",
    "            Matrice_Gauss.append(pts[2*c]**l)\n",
    "        Matrice_Gauss.append(pts[2*c+1])\n",
    "\n",
    "\n",
    "    impossibilite = 0\n",
    "    for colonneactive in range(k):\n",
    "        \n",
    "        pivot=Matrice_Gauss[colonneactive*(k+1)+colonneactive]\n",
    "        if pivot == 0:\n",
    "            impossibilite = 1\n",
    "            break\n",
    "        for l in range(k+1):\n",
    "            \n",
    "            Matrice_Gauss[colonneactive*(k+1)+l] = Matrice_Gauss[colonneactive*(k+1)+l]/pivot\n",
    "\n",
    "        for c in range(k):\n",
    "            coefcolonne = Matrice_Gauss[c*(k+1)+colonneactive]\n",
    "            for l in range(k+1):\n",
    "                if c != colonneactive:\n",
    "                    Matrice_Gauss[c*(k+1)+l]=Matrice_Gauss[c*(k+1)+l]-Matrice_Gauss[colonneactive*(k+1)+l]*coefcolonne\n",
    "    \n",
    "    if impossibilite == 1:\n",
    "        return \"Les points fournis ne sont pas suffisants\"\n",
    "    else:\n",
    "        return Matrice_Gauss[k]"
   ]
  },
  {
   "cell_type": "code",
   "execution_count": 4,
   "id": "3f3fdae5-f968-4c41-974a-afc0bf0f04ee",
   "metadata": {},
   "outputs": [
    {
     "name": "stdin",
     "output_type": "stream",
     "text": [
      "Veux-tu coder(1) ou décoder(2) un secret ?\n",
      " 1\n",
      "Avec combien de personnes veux-tu partager le secret ?\n",
      " 3\n",
      "Combien de personnes doivent être nécessaires pour trouver le secret ?\n",
      " 2\n",
      "Quel est le secret (en nombre) ?\n",
      " 4\n"
     ]
    },
    {
     "name": "stdout",
     "output_type": "stream",
     "text": [
      "Voici les différents points à distribuer à chaques personnes :\n",
      "0\n",
      "98\n",
      "-135\n",
      "(98;-2152)\n",
      "(-135;2974)\n",
      "(-61;1346)\n",
      "\n",
      "\n",
      "Fin du programme\n",
      "\n",
      "\n"
     ]
    }
   ],
   "source": [
    "action=int(input(\"Veux-tu coder(1) ou décoder(2) un secret ?\\n\"))\n",
    "\n",
    "if action == 1:\n",
    "    n = int(input(\"Avec combien de personnes veux-tu partager le secret ?\\n\"))\n",
    "    k = int(input(\"Combien de personnes doivent être nécessaires pour trouver le secret ?\\n\"))\n",
    "    if k <= 0:\n",
    "        print(\"Erreur, cette valeur n'est pas valable\")\n",
    "    else:\n",
    "        secret = int(input(\"Quel est le secret (en nombre) ?\\n\"))\n",
    "        print(\"Voici les différents points à distribuer à chaques personnes :\")\n",
    "        \n",
    "        for i in codage(k,n,secret):\n",
    "            print(i)\n",
    "        \n",
    "else:\n",
    "    pts = []\n",
    "    k = int(input(\"Combien de personnes sont nécessaires pour trouver le secret ?\\n\"))\n",
    "    if k <= 0:\n",
    "        print(\"Erreur, cette valeur n'est pas valable\")\n",
    "    for i in range(k):\n",
    "        pts.append(int(input(\"Quelles est l'abscisse du point n°\"+str(i+1)+\"\\n\")))\n",
    "        pts.append(int(input(\"Quelles est l'ordonnée du point n°\"+str(i+1)+\"\\n\")))\n",
    "        \n",
    "    print(\"le secret est : \",decoder(k,pts))\n",
    "        \n",
    "print(\"\\n\\nFin du programme\\n\\n\")"
   ]
  },
  {
   "cell_type": "code",
   "execution_count": null,
   "id": "cff8012f-8299-4337-916e-91b109879665",
   "metadata": {},
   "outputs": [],
   "source": []
  }
 ],
 "metadata": {
  "kernelspec": {
   "display_name": "Python 3 (ipykernel)",
   "language": "python",
   "name": "python3"
  },
  "language_info": {
   "codemirror_mode": {
    "name": "ipython",
    "version": 3
   },
   "file_extension": ".py",
   "mimetype": "text/x-python",
   "name": "python",
   "nbconvert_exporter": "python",
   "pygments_lexer": "ipython3",
   "version": "3.13.3"
  }
 },
 "nbformat": 4,
 "nbformat_minor": 5
}
