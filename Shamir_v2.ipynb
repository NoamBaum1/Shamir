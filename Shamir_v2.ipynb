{
 "cells": [
  {
   "cell_type": "code",
   "execution_count": 3,
   "id": "f56ff444-b854-4369-a8d4-0b35d9e234a3",
   "metadata": {},
   "outputs": [],
   "source": [
    "import random\n",
    "def coder(n,k,secret): #avec k le nombre de points nécessaires pour décoder et n le nombre de points partagés\n",
    "    if k <= 0:\n",
    "        print(\"Erreur, cette valeur n'est pas valable\")\n",
    "    else :\n",
    "        f= [secret]\n",
    "        pts = []\n",
    "        ptX = 0\n",
    "        for i in range(k-1):\n",
    "            f.append(random.randint(-30,30))\n",
    "        for i in range(n):\n",
    "            while not(ptX in pts) or ptX != 0:\n",
    "                ptX = random.randint(-k*3,k*3)\n",
    "                ptY = 0\n",
    "                degre = 0\n",
    "                for i in f:\n",
    "                    ptY = ptY + i*(ptX**degre)\n",
    "                    degre += 1\n",
    "                \n",
    "            pts.append(\"(\"+str(ptX)+\";\"+str(ptY)+\")\")\n",
    "        print(\"Voici les différents points à distribuer à chaques personnes :\")\n",
    "        fichier = open(\"/home/veriqloud/Documents/Shamir/data.txt\", \"w\")\n",
    "        for i in pts:\n",
    "            print(i)\n",
    "            fichier.write(i+\"\\n\")\n"
   ]
  },
  {
   "cell_type": "code",
   "execution_count": 4,
   "id": "2a523487-6a96-4974-a00d-4f8e6dff9598",
   "metadata": {},
   "outputs": [],
   "source": [
    "def decoder(k):\n",
    "    fichier = open(\"/home/veriqloud/Documents/Shamir/data.txt\", \"r\")\n",
    "    a = fichier.read()\n",
    "    fichier.close()\n",
    "    pts = []\n",
    "    coordonnes = []\n",
    "    for i in a :\n",
    "        coordonnes.append(i)\n",
    "    v = 0\n",
    "    signe = 1\n",
    "    for i in coordonnes:\n",
    "        if i in [\"1\",\"2\",\"3\",\"4\",\"5\",\"6\",\"7\",\"8\",\"9\",\"0\"]:\n",
    "            v = v*10 + int(i)\n",
    "        elif i == \"-\":\n",
    "            signe = -1\n",
    "        elif i == \";\" or i == \")\":\n",
    "            v = v * signe\n",
    "            pts.append(v)\n",
    "            signe = 1\n",
    "            v = 0\n",
    "    #points enregistrées\n",
    "\n",
    "\n",
    "\n",
    "    if k <= 0:\n",
    "        return \"Erreur, une des valeurs n'est pas valable\"\n",
    "    else:\n",
    "        if len(pts)-2*k < 0:\n",
    "            return \"Les points fournis ne sont pas suffisants\"\n",
    "        for i in range(len(pts)-2*k):\n",
    "            del pts[0]\n",
    "        Matrice_Gauss = []\n",
    "        for c in range(k):\n",
    "            for l in range(k):\n",
    "                Matrice_Gauss.append(pts[2*c]**l)\n",
    "            Matrice_Gauss.append(pts[2*c+1])\n",
    "\n",
    "\n",
    "        impossibilite = 0\n",
    "        for colonneactive in range(k):\n",
    "            \n",
    "            pivot=Matrice_Gauss[colonneactive*(k+1)+colonneactive]\n",
    "            if pivot == 0:\n",
    "                impossibilite = 1\n",
    "                break\n",
    "            for l in range(k+1):\n",
    "                \n",
    "                Matrice_Gauss[colonneactive*(k+1)+l] = Matrice_Gauss[colonneactive*(k+1)+l]/pivot\n",
    "\n",
    "            for c in range(k):\n",
    "                coefcolonne = Matrice_Gauss[c*(k+1)+colonneactive]\n",
    "                for l in range(k+1):\n",
    "                    if c != colonneactive:\n",
    "                        Matrice_Gauss[c*(k+1)+l]=Matrice_Gauss[c*(k+1)+l]-Matrice_Gauss[colonneactive*(k+1)+l]*coefcolonne\n",
    "        \n",
    "        if impossibilite == 1:\n",
    "            return \"Les points fournis ne sont pas suffisants\"\n",
    "        else:\n",
    "            return \"Avec les points :\\n\",a\n",
    "            return \"Le secret est : \",Matrice_Gauss[k]\n",
    "\n",
    "            \n",
    "        \n"
   ]
  },
  {
   "cell_type": "code",
   "execution_count": 6,
   "id": "c0b6157a-6306-415a-aa6c-44df479ffe28",
   "metadata": {},
   "outputs": [
    {
     "data": {
      "text/plain": [
       "'Les points fournis ne sont pas suffisants'"
      ]
     },
     "execution_count": 6,
     "metadata": {},
     "output_type": "execute_result"
    }
   ],
   "source": [
    "decoder(4)"
   ]
  },
  {
   "cell_type": "code",
   "execution_count": 3,
   "id": "6b9e1e2b-925c-4dd3-84e6-bc7f85c10761",
   "metadata": {},
   "outputs": [
    {
     "name": "stdout",
     "output_type": "stream",
     "text": [
      "Voici les différents points à distribuer à chaques personnes :\n",
      "(6;2)\n",
      "(-5;123)\n",
      "(2;-10)\n"
     ]
    }
   ],
   "source": [
    "coder(3,3,8)\n"
   ]
  }
 ],
 "metadata": {
  "kernelspec": {
   "display_name": "Python 3 (ipykernel)",
   "language": "python",
   "name": "python3"
  },
  "language_info": {
   "codemirror_mode": {
    "name": "ipython",
    "version": 3
   },
   "file_extension": ".py",
   "mimetype": "text/x-python",
   "name": "python",
   "nbconvert_exporter": "python",
   "pygments_lexer": "ipython3",
   "version": "3.13.3"
  }
 },
 "nbformat": 4,
 "nbformat_minor": 5
}
